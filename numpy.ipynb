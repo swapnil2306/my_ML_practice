{
 "cells": [
  {
   "cell_type": "code",
   "execution_count": 37,
   "metadata": {},
   "outputs": [
    {
     "name": "stdout",
     "output_type": "stream",
     "text": [
      "[0.         0.69314718]\n",
      "[2.71828183 7.3890561 ]\n",
      "11\n"
     ]
    }
   ],
   "source": [
    "#simple numpy\n",
    "import numpy as np\n",
    "a = np.array([1,2])\n",
    "b = np.array([3,4])\n",
    "out = np.log(a)\n",
    "print(out)\n",
    "out = np.exp(a)\n",
    "print(out)\n",
    "#out = np.dot(a,b)\n",
    "out = a.dot(b)\n",
    "print(out)"
   ]
  },
  {
   "cell_type": "code",
   "execution_count": 38,
   "metadata": {},
   "outputs": [
    {
     "name": "stdout",
     "output_type": "stream",
     "text": [
      "2.23606797749979\n",
      "5.0\n",
      "11.0\n"
     ]
    }
   ],
   "source": [
    "#magnitude of vector\n",
    "out = np.linalg.norm(a)    #print magnitude of the vector\n",
    "print(out)\n",
    "out = np.linalg.norm(b)\n",
    "print(out)\n",
    "out = np.linalg.norm(np.dot(a,b))\n",
    "print(out)"
   ]
  },
  {
   "cell_type": "code",
   "execution_count": 39,
   "metadata": {},
   "outputs": [
    {
     "name": "stdout",
     "output_type": "stream",
     "text": [
      "0.9838699100999074\n",
      "0.17985349979247847\n"
     ]
    }
   ],
   "source": [
    "#vectors\n",
    "angle_bw_two_vectors = a.dot(b) / (np.linalg.norm(a) * np.linalg.norm(b))     #cos(x) = dot product/(magnitude of both matrix)\n",
    "print(angle_bw_two_vectors)\n",
    "angle_in_radian = np.arccos(angle_bw_two_vectors) #print angle in radian\n",
    "print(angle_in_radian)"
   ]
  },
  {
   "cell_type": "code",
   "execution_count": 40,
   "metadata": {},
   "outputs": [
    {
     "name": "stdout",
     "output_type": "stream",
     "text": [
      "[[1 2 3]\n",
      " [4 5 6]]\n",
      "2\n",
      "[[1 2 3]\n",
      " [4 5 6]]\n",
      "[[1 4]\n",
      " [2 5]\n",
      " [3 6]]\n",
      "[[0. 0.]\n",
      " [0. 0.]]\n",
      "[[[0. 0. 0.]\n",
      "  [0. 0. 0.]]\n",
      "\n",
      " [[0. 0. 0.]\n",
      "  [0. 0. 0.]]]\n",
      "[[1. 1. 1. 1. 1.]\n",
      " [1. 1. 1. 1. 1.]\n",
      " [1. 1. 1. 1. 1.]]\n",
      "[[0.60531227 0.73884873 0.02037901]\n",
      " [0.30393388 0.0802311  0.68529807]\n",
      " [0.02561343 0.94943084 0.96419047]]\n"
     ]
    }
   ],
   "source": [
    "# matrix\n",
    "a = np.matrix([[1,2,3],[4,5,6]])\n",
    "print(a)\n",
    "print(a[0,1])  #print given index\n",
    "x = np.array(a)\n",
    "print(x)\n",
    "print(x.T)     #transpose of a matrix\n",
    "m = np.zeros((2,2))\n",
    "print(m)\n",
    "m = np.zeros((2,2,3))\n",
    "print(m)\n",
    "n = np.ones((3,5))\n",
    "print(n)\n",
    "\n",
    "z = np.random.random((3,3))\n",
    "print(z)"
   ]
  },
  {
   "cell_type": "code",
   "execution_count": 41,
   "metadata": {},
   "outputs": [
    {
     "name": "stdout",
     "output_type": "stream",
     "text": [
      "[[-0.80551635  1.69308042]\n",
      " [ 0.48466381  0.22538792]]\n",
      "0.3994039511108295\n",
      "0.7907456383636607\n"
     ]
    }
   ],
   "source": [
    "#statistical\n",
    "h = np.random.randn(2,2)   #normal \n",
    "print(h)\n",
    "print(h.mean())\n",
    "print(h.var())"
   ]
  },
  {
   "cell_type": "code",
   "execution_count": 49,
   "metadata": {},
   "outputs": [
    {
     "name": "stdout",
     "output_type": "stream",
     "text": [
      "[[-2.   1. ]\n",
      " [ 1.5 -0.5]]\n",
      "-2.0000000000000013\n",
      "[[1 0 0 0]\n",
      " [0 2 0 0]\n",
      " [0 0 3 0]\n",
      " [0 0 0 4]]\n",
      "10\n"
     ]
    }
   ],
   "source": [
    "#inverse of matrix\n",
    "p = np.array([[1,2],[3,4]])\n",
    "q = np.array([[3,4],[5,6]])\n",
    "inverse_of_p = np.linalg.inv(p)\n",
    "print(inverse_of_p)\n",
    "\n",
    "d = np.linalg.det(q)\n",
    "print(d)\n",
    "di = np.diag(p)\n",
    "x = np.diag([1,2,3,4])\n",
    "print(x)\n",
    "x = np.trace(x)\n",
    "print(x)"
   ]
  },
  {
   "cell_type": "code",
   "execution_count": null,
   "metadata": {},
   "outputs": [],
   "source": []
  }
 ],
 "metadata": {
  "kernelspec": {
   "display_name": "Python 3",
   "language": "python",
   "name": "python3"
  },
  "language_info": {
   "codemirror_mode": {
    "name": "ipython",
    "version": 3
   },
   "file_extension": ".py",
   "mimetype": "text/x-python",
   "name": "python",
   "nbconvert_exporter": "python",
   "pygments_lexer": "ipython3",
   "version": "3.6.5"
  }
 },
 "nbformat": 4,
 "nbformat_minor": 2
}
