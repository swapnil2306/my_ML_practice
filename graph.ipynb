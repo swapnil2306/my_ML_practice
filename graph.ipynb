{
 "cells": [
  {
   "cell_type": "markdown",
   "metadata": {},
   "source": [
    "cuda \n",
    "gpu\n",
    "shift tab for checking details of function\n",
    "args \n",
    "kwargs\n",
    "pep8\n",
    "homework : program for fibonacci with caching\n",
    "how to use numpy with gpu"
   ]
  },
  {
   "cell_type": "code",
   "execution_count": null,
   "metadata": {},
   "outputs": [],
   "source": [
    "[x for x in range(0,100,2)]"
   ]
  },
  {
   "cell_type": "code",
   "execution_count": 19,
   "metadata": {},
   "outputs": [
    {
     "data": {
      "image/png": "[encoded data removed]",
      "text/plain": [
       "<Figure size 432x288 with 1 Axes>"
      ]
     },
     "metadata": {},
     "output_type": "display_data"
    }
   ],
   "source": [
    "import timeit\n",
    "\n",
    "cache = {}    \n",
    "def fib(n):\n",
    "    if n not in cache.keys():\n",
    "        cache[n] = _fib(n)\n",
    "    return cache[n]\n",
    "\n",
    "def _fib(n):\n",
    "    if n < 2:\n",
    "        return n\n",
    "    else:\n",
    "        return fib(n-1) + fib(n-2)\n",
    "for i in range(50):\n",
    "    start = timeit.default_timer()\n",
    "    _fib(i)\n",
    "    stop = timeit.default_timer()\n",
    "    t = stop - start\n",
    "    plt.plot(i,t,'bo')\n",
    "\n",
    "\n",
    "   "
   ]
  },
  {
   "cell_type": "code",
   "execution_count": 20,
   "metadata": {},
   "outputs": [
    {
     "name": "stdout",
     "output_type": "stream",
     "text": [
      "2.4630976440676022e-06\n",
      "4.10516258853022e-06\n",
      "8.210325631807791e-06\n",
      "8.210325631807791e-06\n",
      "7.389292932202807e-06\n",
      "8.210325631807791e-06\n",
      "7.389292932202807e-06\n",
      "7.799809282005299e-06\n",
      "8.620841526862932e-06\n",
      "8.620841981610283e-06\n",
      "9.031357876665425e-06\n",
      "8.210325631807791e-06\n",
      "7.799809282005299e-06\n",
      "7.799809282005299e-06\n",
      "7.799809282005299e-06\n",
      "8.620841981610283e-06\n",
      "8.620841981610283e-06\n",
      "7.799809282005299e-06\n",
      "7.799809282005299e-06\n",
      "9.031357876665425e-06\n",
      "8.620841981610283e-06\n",
      "8.620841526862932e-06\n",
      "9.441874226467917e-06\n",
      "8.620841981610283e-06\n",
      "1.0262906926072901e-05\n",
      "8.620841526862932e-06\n",
      "9.031358331412775e-06\n",
      "8.210325631807791e-06\n",
      "9.031358331412775e-06\n",
      "9.441874681215268e-06\n",
      "8.210325631807791e-06\n",
      "8.620841526862932e-06\n",
      "9.852390576270409e-06\n",
      "9.85239103101776e-06\n",
      "9.441874226467917e-06\n",
      "8.620841981610283e-06\n",
      "8.210325631807791e-06\n",
      "7.389292932202807e-06\n",
      "7.799809282005299e-06\n",
      "7.389292932202807e-06\n",
      "6.978777037147665e-06\n",
      "6.978777037147665e-06\n",
      "7.389293386950158e-06\n",
      "8.620841981610283e-06\n",
      "8.210325631807791e-06\n",
      "9.031357876665425e-06\n",
      "8.620841526862932e-06\n",
      "7.389292932202807e-06\n",
      "7.799809282005299e-06\n",
      "8.21032517706044e-06\n"
     ]
    },
    {
     "data": {
      "image/png": "[encoded data removed]",
      "text/plain": [
       "<Figure size 432x288 with 1 Axes>"
      ]
     },
     "metadata": {},
     "output_type": "display_data"
    }
   ],
   "source": [
    "import timeit\n",
    "import matplotlib.pyplot as plt\n",
    "def _fib(n):\n",
    "    if n < 2:\n",
    "        return n\n",
    "    else:\n",
    "        return fib(n-1) + fib(n-2)\n",
    "for i in range(50):\n",
    "    start = timeit.default_timer()\n",
    "    _fib(i)\n",
    "    stop = timeit.default_timer()\n",
    "    t = stop - start\n",
    "    print(t)\n",
    "    plt.plot(i,t,'ro')\n",
    "    \n",
    "\n",
    "    \n",
    " \n"
   ]
  },
  {
   "cell_type": "code",
   "execution_count": null,
   "metadata": {},
   "outputs": [],
   "source": []
  }
 ],
 "metadata": {
  "kernelspec": {
   "display_name": "Python 3",
   "language": "python",
   "name": "python3"
  },
  "language_info": {
   "codemirror_mode": {
    "name": "ipython",
    "version": 3
   },
   "file_extension": ".py",
   "mimetype": "text/x-python",
   "name": "python",
   "nbconvert_exporter": "python",
   "pygments_lexer": "ipython3",
   "version": "3.6.5"
  }
 },
 "nbformat": 4,
 "nbformat_minor": 2
}
