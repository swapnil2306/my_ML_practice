{
 "cells": [
  {
   "cell_type": "markdown",
   "metadata": {},
   "source": [
    "# Some Python functions"
   ]
  },
  {
   "cell_type": "markdown",
   "metadata": {},
   "source": [
    "ITERATORS:\n",
    "These are the objects which can be iterated upon i.e. an object which return data one at a time.\n",
    "1. in iteratior there are 2 special methods, namely\n",
    "        a. __iter__()          b. __next__()\n",
    "2. we use a function iter() (which calls the __iter__() method), which returns.\n",
    "3. next() function is used to manually iterate over the items.\n",
    "4. when we reach the end (no more item left to be iterated), StopIteration is called.\n",
    "5. #working of for loop:\n",
    "    for loop calls iter() function on the iterable item (like list, tuple, string etc.)"
   ]
  },
  {
   "cell_type": "code",
   "execution_count": 21,
   "metadata": {},
   "outputs": [
    {
     "name": "stdout",
     "output_type": "stream",
     "text": [
      "1\n",
      "a\n",
      "2\n",
      "[3, 4]\n"
     ]
    },
    {
     "ename": "StopIteration",
     "evalue": "",
     "output_type": "error",
     "traceback": [
      "\u001b[1;31m---------------------------------------------------------------------------\u001b[0m",
      "\u001b[1;31mStopIteration\u001b[0m                             Traceback (most recent call last)",
      "\u001b[1;32m<ipython-input-21-871bb99b8f1c>\u001b[0m in \u001b[0;36m<module>\u001b[1;34m()\u001b[0m\n\u001b[0;32m      7\u001b[0m \u001b[0mprint\u001b[0m\u001b[1;33m(\u001b[0m\u001b[0mnext\u001b[0m\u001b[1;33m(\u001b[0m\u001b[0miterator\u001b[0m\u001b[1;33m)\u001b[0m\u001b[1;33m)\u001b[0m\u001b[1;33m\u001b[0m\u001b[0m\n\u001b[0;32m      8\u001b[0m \u001b[0mprint\u001b[0m\u001b[1;33m(\u001b[0m\u001b[0mnext\u001b[0m\u001b[1;33m(\u001b[0m\u001b[0miterator\u001b[0m\u001b[1;33m)\u001b[0m\u001b[1;33m)\u001b[0m\u001b[1;33m\u001b[0m\u001b[0m\n\u001b[1;32m----> 9\u001b[1;33m \u001b[0mprint\u001b[0m\u001b[1;33m(\u001b[0m\u001b[0mnext\u001b[0m\u001b[1;33m(\u001b[0m\u001b[0miterator\u001b[0m\u001b[1;33m)\u001b[0m\u001b[1;33m)\u001b[0m\u001b[1;33m\u001b[0m\u001b[0m\n\u001b[0m",
      "\u001b[1;31mStopIteration\u001b[0m: "
     ]
    }
   ],
   "source": [
    "#use of iterator\n",
    "# define an iterable object like list\n",
    "l = [1,'a', 2, [3,4]]\n",
    "iterator = iter(l)\n",
    "print(next(iterator))\n",
    "print(next(iterator))\n",
    "print(next(iterator))\n",
    "print(next(iterator))\n",
    "print(next(iterator))\n"
   ]
  },
  {
   "cell_type": "markdown",
   "metadata": {},
   "source": [
    "zip iterator\n",
    "The zip() function take iterables as arguments, makes iterator that aggregates them, and returns an iterator of tuples.\n",
    "1. Syntax : zip(*iterable)\n",
    "2. parameters : iterables (which can be in built like list,tuple or can be user defined (object having __iter__() method)\n",
    "3. return value : iterator of tuples"
   ]
  },
  {
   "cell_type": "code",
   "execution_count": 22,
   "metadata": {},
   "outputs": [
    {
     "name": "stdout",
     "output_type": "stream",
     "text": [
      "[]\n",
      "[(1, 'a'), (2, 'b'), (3, 'c')]\n",
      "(1, 2, 3)\n",
      "('a', 'b', 'c')\n"
     ]
    }
   ],
   "source": [
    "# zip function use\n",
    "list1 = [1,2,3,4]\n",
    "list2 = ['a', 'b', 'c']\n",
    "zipped = zip()\n",
    "list_zipped = list(zipped)\n",
    "print(list_zipped)\n",
    "zipped = zip(list1,list2)\n",
    "list_zipped = list(zipped)\n",
    "print(list_zipped)\n",
    "#unzipping\n",
    "c,v=zip(*list_zipped)\n",
    "print(c)\n",
    "print(v)\n"
   ]
  },
  {
   "cell_type": "markdown",
   "metadata": {},
   "source": [
    "map():  \n",
    "The map() function applies a given function to each item of an iterable (list, tuple etc.) and returns a list of the results.\n",
    "1. parameters : \n",
    "        .function :  map() passes each value of iterator to this function\n",
    "        .iterable : on which function is to be mapped\n",
    "2. return value : list of the result.\n"
   ]
  },
  {
   "cell_type": "code",
   "execution_count": 23,
   "metadata": {},
   "outputs": [
    {
     "name": "stdout",
     "output_type": "stream",
     "text": [
      "[1, 8, 27, 64]\n"
     ]
    }
   ],
   "source": [
    "# using map\n",
    "def no_cube(n):\n",
    "    return n*n*n\n",
    "numbers =[1,2,3,4]\n",
    "result = list(map(no_cube, numbers))\n",
    "print(result)"
   ]
  },
  {
   "cell_type": "markdown",
   "metadata": {},
   "source": [
    "reduce() :\n",
    "1. applies the particular function passed to it to all elements of the passed sequence.\n",
    "2. this function is defined in functool module of python"
   ]
  },
  {
   "cell_type": "code",
   "execution_count": 24,
   "metadata": {},
   "outputs": [
    {
     "name": "stdout",
     "output_type": "stream",
     "text": [
      "55\n"
     ]
    }
   ],
   "source": [
    "# example of reduce()\n",
    "import functools\n",
    "def add(a,b):\n",
    "    return a+b\n",
    "lis = [1,2,3,4,5,6,7,8,9,10]\n",
    "add_result = functools.reduce(add, lis)\n",
    "print(add_result)"
   ]
  },
  {
   "cell_type": "markdown",
   "metadata": {},
   "source": [
    "#list comprehension\n",
    "1. it is a concise way to create list\n",
    "2. it always return a list\n",
    "3. syntax : [expression for item in list]"
   ]
  },
  {
   "cell_type": "code",
   "execution_count": 25,
   "metadata": {},
   "outputs": [
    {
     "name": "stdout",
     "output_type": "stream",
     "text": [
      "[0.0, 0.5, 1.0, 1.5, 2.0, 2.5, 3.0, 3.5, 4.0, 4.5]\n"
     ]
    }
   ],
   "source": [
    "#example of list comprehension\n",
    "l = [x/2 for x in range(10)]\n",
    "print(l)\n"
   ]
  },
  {
   "cell_type": "code",
   "execution_count": 26,
   "metadata": {},
   "outputs": [
    {
     "name": "stdout",
     "output_type": "stream",
     "text": [
      "7.0710678118654755\n"
     ]
    }
   ],
   "source": [
    "# finding euclidean distance for loss calculation\n",
    "import math\n",
    "def euclidean_dist(x1, y1, x2, y2):\n",
    "    return math.sqrt((x2-x1)**2 + (y2-y1)**2)\n",
    "loss = euclidean_dist(2,4,7,9)\n",
    "print(loss)"
   ]
  },
  {
   "cell_type": "code",
   "execution_count": 27,
   "metadata": {},
   "outputs": [
    {
     "name": "stdout",
     "output_type": "stream",
     "text": [
      "2.7386127875258306\n"
     ]
    }
   ],
   "source": [
    "# calculating rms value\n",
    "import numpy as np\n",
    "a = np.array([1,2,3,4])\n",
    "a = a**2\n",
    "h = a.mean()\n",
    "rms = math.sqrt(h)\n",
    "print(rms)"
   ]
  },
  {
   "cell_type": "code",
   "execution_count": null,
   "metadata": {},
   "outputs": [],
   "source": []
  },
  {
   "cell_type": "code",
   "execution_count": null,
   "metadata": {},
   "outputs": [],
   "source": []
  }
 ],
 "metadata": {
  "kernelspec": {
   "display_name": "Python 3",
   "language": "python",
   "name": "python3"
  },
  "language_info": {
   "codemirror_mode": {
    "name": "ipython",
    "version": 3
   },
   "file_extension": ".py",
   "mimetype": "text/x-python",
   "name": "python",
   "nbconvert_exporter": "python",
   "pygments_lexer": "ipython3",
   "version": "3.6.5"
  }
 },
 "nbformat": 4,
 "nbformat_minor": 2
}
