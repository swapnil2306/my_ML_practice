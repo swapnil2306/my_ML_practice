{
 "cells": [
  {
   "cell_type": "code",
   "execution_count": 12,
   "metadata": {
    "scrolled": true
   },
   "outputs": [
    {
     "name": "stdout",
     "output_type": "stream",
     "text": [
      "  Manager Employee\n",
      "0     Ram    Shyam\n",
      "1   Shyam    Harry\n",
      "2   Harry     Lucy\n",
      "3    Lucy     Shiv\n",
      "4    Shiv     Shiv\n",
      "5    Jake     Hana\n",
      "6    Hana    Beast\n",
      "7   Beast    Beast\n",
      "8   Shady    Shady\n",
      "9     Nox      Nox\n",
      "{'Ram': 'Shyam', 'Shyam': 'Harry', 'Harry': 'Lucy', 'Lucy': 'Shiv', 'Shiv': 'Shiv', 'Jake': 'Hana', 'Hana': 'Beast', 'Beast': 'Beast', 'Shady': 'Shady', 'Nox': 'Nox'}\n"
     ]
    }
   ],
   "source": [
    "import pandas as pd\n",
    "data = pd.read_csv(\"C:\\\\Users\\\\AakashSingh\\\\Desktop\\\\Assignment5.csv\",names=['Manager','Employee'])\n",
    "print(data)\n",
    "record = {data.iloc[i,0]:data.iloc[i,1] for i in range (len(data))}\n",
    "print (record)"
   ]
  },
  {
   "cell_type": "code",
   "execution_count": 25,
   "metadata": {},
   "outputs": [
    {
     "name": "stdout",
     "output_type": "stream",
     "text": [
      "['Ram', 'Harry']\n",
      "['Ram', 'Harry', 'Lucy']\n",
      "['Ram', 'Harry', 'Lucy', 'Shiv']\n",
      "['Shyam', 'Lucy']\n",
      "['Shyam', 'Lucy', 'Shiv']\n",
      "['Harry', 'Shiv']\n",
      "['Jake', 'Beast']\n",
      "[['Ram', 'Harry', 'Lucy', 'Shiv'], ['Shyam', 'Lucy', 'Shiv'], ['Harry', 'Shiv'], ['Lucy'], ['Shiv'], ['Jake', 'Beast'], ['Hana'], ['Beast'], ['Shady'], ['Nox']]\n"
     ]
    }
   ],
   "source": [
    "final = []\n",
    "for key in record:\n",
    "    list1 = []\n",
    "    list1.append(key)\n",
    "    \n",
    "    x = record[key]\n",
    "    \n",
    "    while x != record[x]:\n",
    "        x = record[x]\n",
    "        list1.append(x)\n",
    "        print(list1)\n",
    "    set(list1)\n",
    "    final.append(list1)\n",
    "#print(final)\n",
    "\n"
   ]
  },
  {
   "cell_type": "code",
   "execution_count": 21,
   "metadata": {},
   "outputs": [
    {
     "data": {
      "text/html": [
       "<div>\n",
       "<style scoped>\n",
       "    .dataframe tbody tr th:only-of-type {\n",
       "        vertical-align: middle;\n",
       "    }\n",
       "\n",
       "    .dataframe tbody tr th {\n",
       "        vertical-align: top;\n",
       "    }\n",
       "\n",
       "    .dataframe thead th {\n",
       "        text-align: right;\n",
       "    }\n",
       "</style>\n",
       "<table border=\"1\" class=\"dataframe\">\n",
       "  <thead>\n",
       "    <tr style=\"text-align: right;\">\n",
       "      <th></th>\n",
       "      <th>0</th>\n",
       "      <th>1</th>\n",
       "      <th>2</th>\n",
       "      <th>3</th>\n",
       "      <th>4</th>\n",
       "    </tr>\n",
       "  </thead>\n",
       "  <tbody>\n",
       "    <tr>\n",
       "      <th>0</th>\n",
       "      <td>Ram</td>\n",
       "      <td>Shyam</td>\n",
       "      <td>Harry</td>\n",
       "      <td>Lucy</td>\n",
       "      <td>Shiv</td>\n",
       "    </tr>\n",
       "    <tr>\n",
       "      <th>1</th>\n",
       "      <td>Shyam</td>\n",
       "      <td>Harry</td>\n",
       "      <td>Lucy</td>\n",
       "      <td>Shiv</td>\n",
       "      <td>None</td>\n",
       "    </tr>\n",
       "    <tr>\n",
       "      <th>2</th>\n",
       "      <td>Harry</td>\n",
       "      <td>Lucy</td>\n",
       "      <td>Shiv</td>\n",
       "      <td>None</td>\n",
       "      <td>None</td>\n",
       "    </tr>\n",
       "    <tr>\n",
       "      <th>3</th>\n",
       "      <td>Lucy</td>\n",
       "      <td>Shiv</td>\n",
       "      <td>None</td>\n",
       "      <td>None</td>\n",
       "      <td>None</td>\n",
       "    </tr>\n",
       "    <tr>\n",
       "      <th>4</th>\n",
       "      <td>Shiv</td>\n",
       "      <td>Shiv</td>\n",
       "      <td>None</td>\n",
       "      <td>None</td>\n",
       "      <td>None</td>\n",
       "    </tr>\n",
       "    <tr>\n",
       "      <th>5</th>\n",
       "      <td>Jake</td>\n",
       "      <td>Hana</td>\n",
       "      <td>Beast</td>\n",
       "      <td>None</td>\n",
       "      <td>None</td>\n",
       "    </tr>\n",
       "    <tr>\n",
       "      <th>6</th>\n",
       "      <td>Hana</td>\n",
       "      <td>Beast</td>\n",
       "      <td>None</td>\n",
       "      <td>None</td>\n",
       "      <td>None</td>\n",
       "    </tr>\n",
       "    <tr>\n",
       "      <th>7</th>\n",
       "      <td>Beast</td>\n",
       "      <td>Beast</td>\n",
       "      <td>None</td>\n",
       "      <td>None</td>\n",
       "      <td>None</td>\n",
       "    </tr>\n",
       "    <tr>\n",
       "      <th>8</th>\n",
       "      <td>Shady</td>\n",
       "      <td>Shady</td>\n",
       "      <td>None</td>\n",
       "      <td>None</td>\n",
       "      <td>None</td>\n",
       "    </tr>\n",
       "    <tr>\n",
       "      <th>9</th>\n",
       "      <td>Nox</td>\n",
       "      <td>Nox</td>\n",
       "      <td>None</td>\n",
       "      <td>None</td>\n",
       "      <td>None</td>\n",
       "    </tr>\n",
       "  </tbody>\n",
       "</table>\n",
       "</div>"
      ],
      "text/plain": [
       "       0      1      2     3     4\n",
       "0    Ram  Shyam  Harry  Lucy  Shiv\n",
       "1  Shyam  Harry   Lucy  Shiv  None\n",
       "2  Harry   Lucy   Shiv  None  None\n",
       "3   Lucy   Shiv   None  None  None\n",
       "4   Shiv   Shiv   None  None  None\n",
       "5   Jake   Hana  Beast  None  None\n",
       "6   Hana  Beast   None  None  None\n",
       "7  Beast  Beast   None  None  None\n",
       "8  Shady  Shady   None  None  None\n",
       "9    Nox    Nox   None  None  None"
      ]
     },
     "execution_count": 21,
     "metadata": {},
     "output_type": "execute_result"
    }
   ],
   "source": [
    "final_ans = pd.DataFrame(final)\n",
    "final_ans"
   ]
  },
  {
   "cell_type": "code",
   "execution_count": null,
   "metadata": {},
   "outputs": [],
   "source": []
  }
 ],
 "metadata": {
  "kernelspec": {
   "display_name": "Python 3",
   "language": "python",
   "name": "python3"
  },
  "language_info": {
   "codemirror_mode": {
    "name": "ipython",
    "version": 3
   },
   "file_extension": ".py",
   "mimetype": "text/x-python",
   "name": "python",
   "nbconvert_exporter": "python",
   "pygments_lexer": "ipython3",
   "version": "3.6.5"
  }
 },
 "nbformat": 4,
 "nbformat_minor": 2
}
